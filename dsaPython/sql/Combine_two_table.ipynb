{
 "cells": [
  {
   "cell_type": "code",
   "execution_count": null,
   "id": "0ab4bf8d",
   "metadata": {},
   "outputs": [],
   "source": [
    "# SELECT firstName, lastName, city, state\n",
    "# FROM Person p\n",
    "# LEFT JOIN Address a ON p.personId = a.personId"
   ]
  }
 ],
 "metadata": {
  "kernelspec": {
   "display_name": "venv",
   "language": "python",
   "name": "python3"
  },
  "language_info": {
   "name": "python",
   "version": "3.12.3"
  }
 },
 "nbformat": 4,
 "nbformat_minor": 5
}
