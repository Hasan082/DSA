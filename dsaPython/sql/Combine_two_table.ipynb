{
 "cells": [
  {
   "cell_type": "code",
   "execution_count": 1,
   "id": "0ab4bf8d",
   "metadata": {},
   "outputs": [],
   "source": [
    "# 175. Combine Two Tables LEETCODE\n",
    "# SELECT firstName, lastName, city, state\n",
    "# FROM Person p\n",
    "# LEFT JOIN Address a ON p.personId = a.personId"
   ]
  },
  {
   "cell_type": "code",
   "execution_count": 2,
   "id": "a9be91cd",
   "metadata": {},
   "outputs": [],
   "source": [
    "# 577. Employee Bonus\n",
    "# Easy\n",
    "# Topics\n",
    "# Companies\n",
    "# Hint\n",
    "# SQL Schema\n",
    "# Pandas Schema\n",
    "# Table: Employee\n",
    "\n",
    "# +-------------+---------+\n",
    "# | Column Name | Type    |\n",
    "# +-------------+---------+\n",
    "# | empId       | int     |\n",
    "# | name        | varchar |\n",
    "# | supervisor  | int     |\n",
    "# | salary      | int     |\n",
    "# +-------------+---------+\n",
    "# empId is the column with unique values for this table.\n",
    "# Each row of this table indicates the name and the ID of an employee in addition to their salary and the id of their manager.\n",
    " \n",
    "\n",
    "# Table: Bonus\n",
    "\n",
    "# +-------------+------+\n",
    "# | Column Name | Type |\n",
    "# +-------------+------+\n",
    "# | empId       | int  |\n",
    "# | bonus       | int  |\n",
    "# +-------------+------+\n",
    "# empId is the column of unique values for this table.\n",
    "# empId is a foreign key (reference column) to empId from the Employee table.\n",
    "# Each row of this table contains the id of an employee and their respective bonus.\n",
    " \n",
    "\n",
    "# Write a solution to report the name and bonus amount of each employee with a bonus less than 1000.\n",
    "\n",
    "# Return the result table in any order.\n",
    "\n",
    "# The result format is in the following example."
   ]
  },
  {
   "cell_type": "code",
   "execution_count": 3,
   "id": "57ba6083",
   "metadata": {},
   "outputs": [],
   "source": [
    "# SELECT e.name, b.bonus\n",
    "# FROM Employee e\n",
    "# LEFT JOIN Bonus b ON e.empId = b.empId\n",
    "# WHERE b.bonus < 1000 OR b.bonus IS NULL;"
   ]
  },
  {
   "cell_type": "code",
   "execution_count": null,
   "id": "02432aa7",
   "metadata": {},
   "outputs": [],
   "source": [
    "# 181. Employees Earning More Than Their Managers\n",
    "# Easy\n",
    "# Topics\n",
    "# Companies\n",
    "# SQL Schema\n",
    "# Pandas Schema\n",
    "# Table: Employee\n",
    "\n",
    "# +-------------+---------+\n",
    "# | Column Name | Type    |\n",
    "# +-------------+---------+\n",
    "# | id          | int     |\n",
    "# | name        | varchar |\n",
    "# | salary      | int     |\n",
    "# | managerId   | int     |\n",
    "# +-------------+---------+\n",
    "# id is the primary key (column with unique values) for this table.\n",
    "# Each row of this table indicates the ID of an employee, their name, salary, and the ID of their manager.\n",
    " \n",
    "\n",
    "# Write a solution to find the employees who earn more than their managers.\n",
    "\n",
    "# Return the result table in any order.\n",
    "\n",
    "# The result format is in the following example.\n",
    "\n",
    " \n",
    "\n",
    "# Example 1:\n",
    "\n",
    "# Input: \n",
    "# Employee table:\n",
    "# +----+-------+--------+-----------+\n",
    "# | id | name  | salary | managerId |\n",
    "# +----+-------+--------+-----------+\n",
    "# | 1  | Joe   | 70000  | 3         |\n",
    "# | 2  | Henry | 80000  | 4         |\n",
    "# | 3  | Sam   | 60000  | Null      |\n",
    "# | 4  | Max   | 90000  | Null      |\n",
    "# +----+-------+--------+-----------+\n",
    "# Output: \n",
    "# +----------+\n",
    "# | Employee |\n",
    "# +----------+\n",
    "# | Joe      |\n",
    "# +----------+\n",
    "# Explanation: Joe is the only employee who earns more than his manager."
   ]
  },
  {
   "cell_type": "code",
   "execution_count": null,
   "id": "4acfcbb7",
   "metadata": {},
   "outputs": [],
   "source": [
    "# SELECT e.name AS Employee\n",
    "# FROM Employee e\n",
    "# JOIN Employee m ON e.managerId = m.id\n",
    "# WHERE e.salary > m.salary"
   ]
  }
 ],
 "metadata": {
  "kernelspec": {
   "display_name": "venv",
   "language": "python",
   "name": "python3"
  },
  "language_info": {
   "codemirror_mode": {
    "name": "ipython",
    "version": 3
   },
   "file_extension": ".py",
   "mimetype": "text/x-python",
   "name": "python",
   "nbconvert_exporter": "python",
   "pygments_lexer": "ipython3",
   "version": "3.12.3"
  }
 },
 "nbformat": 4,
 "nbformat_minor": 5
}
