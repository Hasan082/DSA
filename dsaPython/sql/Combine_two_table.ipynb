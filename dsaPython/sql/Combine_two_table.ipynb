{
 "cells": [
  {
   "cell_type": "code",
   "execution_count": 1,
   "id": "0ab4bf8d",
   "metadata": {},
   "outputs": [],
   "source": [
    "# 175. Combine Two Tables LEETCODE\n",
    "# SELECT firstName, lastName, city, state\n",
    "# FROM Person p\n",
    "# LEFT JOIN Address a ON p.personId = a.personId"
   ]
  },
  {
   "cell_type": "code",
   "execution_count": 2,
   "id": "a9be91cd",
   "metadata": {},
   "outputs": [],
   "source": [
    "# 577. Employee Bonus\n",
    "# Easy\n",
    "# Topics\n",
    "# Companies\n",
    "# Hint\n",
    "# SQL Schema\n",
    "# Pandas Schema\n",
    "# Table: Employee\n",
    "\n",
    "# +-------------+---------+\n",
    "# | Column Name | Type    |\n",
    "# +-------------+---------+\n",
    "# | empId       | int     |\n",
    "# | name        | varchar |\n",
    "# | supervisor  | int     |\n",
    "# | salary      | int     |\n",
    "# +-------------+---------+\n",
    "# empId is the column with unique values for this table.\n",
    "# Each row of this table indicates the name and the ID of an employee in addition to their salary and the id of their manager.\n",
    " \n",
    "\n",
    "# Table: Bonus\n",
    "\n",
    "# +-------------+------+\n",
    "# | Column Name | Type |\n",
    "# +-------------+------+\n",
    "# | empId       | int  |\n",
    "# | bonus       | int  |\n",
    "# +-------------+------+\n",
    "# empId is the column of unique values for this table.\n",
    "# empId is a foreign key (reference column) to empId from the Employee table.\n",
    "# Each row of this table contains the id of an employee and their respective bonus.\n",
    " \n",
    "\n",
    "# Write a solution to report the name and bonus amount of each employee with a bonus less than 1000.\n",
    "\n",
    "# Return the result table in any order.\n",
    "\n",
    "# The result format is in the following example."
   ]
  },
  {
   "cell_type": "code",
   "execution_count": 3,
   "id": "57ba6083",
   "metadata": {},
   "outputs": [],
   "source": [
    "# SELECT e.name, b.bonus\n",
    "# FROM Employee e\n",
    "# LEFT JOIN Bonus b ON e.empId = b.empId\n",
    "# WHERE b.bonus < 1000 OR b.bonus IS NULL;"
   ]
  }
 ],
 "metadata": {
  "kernelspec": {
   "display_name": "venv",
   "language": "python",
   "name": "python3"
  },
  "language_info": {
   "codemirror_mode": {
    "name": "ipython",
    "version": 3
   },
   "file_extension": ".py",
   "mimetype": "text/x-python",
   "name": "python",
   "nbconvert_exporter": "python",
   "pygments_lexer": "ipython3",
   "version": "3.12.3"
  }
 },
 "nbformat": 4,
 "nbformat_minor": 5
}
